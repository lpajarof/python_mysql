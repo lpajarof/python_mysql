{
  "nbformat": 4,
  "nbformat_minor": 0,
  "metadata": {
    "colab": {
      "name": "Conexión Pyhton MySql.ipynb",
      "provenance": [],
      "toc_visible": true,
      "authorship_tag": "ABX9TyMco6qtO3Xxiim2lGR22ztW",
      "include_colab_link": true
    },
    "kernelspec": {
      "name": "python3",
      "display_name": "Python 3"
    },
    "language_info": {
      "name": "python"
    }
  },
  "cells": [
    {
      "cell_type": "markdown",
      "metadata": {
        "id": "view-in-github",
        "colab_type": "text"
      },
      "source": [
        "<a href=\"https://colab.research.google.com/github/lpajarof/python_mysql/blob/main/Conexi%C3%B3n_Pyhton_MySql.ipynb\" target=\"_parent\"><img src=\"https://colab.research.google.com/assets/colab-badge.svg\" alt=\"Open In Colab\"/></a>"
      ]
    },
    {
      "cell_type": "markdown",
      "source": [
        "# Conexión a Base de Datos Mysql\n",
        "\n",
        "**Ing. Leandro Pájaro Fuentes**\n",
        "\n",
        "En la presente práctica veremos como utilizar Python para acceder a una base de datos Mysql\n",
        "\n",
        "\n",
        "\n"
      ],
      "metadata": {
        "id": "qW5BiDzzZYdp"
      }
    },
    {
      "cell_type": "markdown",
      "source": [
        "# 1 Configuración de la base de datos\n",
        "\n",
        "Para poder acceder a una base de datos MySql esta debe estar creada.  Para el desarrollo de los ejercicios se ha creado una base de datos de prueba, los datos de conexión son:\n",
        "\n",
        "\n",
        "*   Server Host: IP\n",
        "*   Database: nombre_de_la_base_de_datos\n",
        "*   Usuario: usuario_base_datos\n",
        "*   Contraseña: contraseña_base_datos\n",
        "\n",
        "En la base de datos se creará la siguiente tabla:\n",
        "\n",
        "```sql\n",
        "CREATE TABLE IF NOT EXISTS usuarios (\n",
        "  id int PRIMARY KEY AUTO_INCREMENT,\n",
        "  nombres varchar(50),\n",
        "  apellidos varchar(50),\n",
        "  email varchar(255)\n",
        ");\n",
        "```\n",
        "\n",
        "Insertaremos los siguientes registros:\n",
        "\n",
        "```sql\n",
        "INSERT INTO usuarios (nombres, apellidos,email)\n",
        "VALUES('Juan','Pérez','juan@com.co'),('Maria','López','maria@com.co'),('Pablo','Gomez','pablo@com.co'),('Ana','Gacia','ana@com.co');\n",
        "```"
      ],
      "metadata": {
        "id": "T-CyF7BS0uVa"
      }
    },
    {
      "cell_type": "markdown",
      "source": [
        "# 2 Conexión a la Base de Datos desde Python\n",
        "\n",
        "Para acceder a una base de datos MySql desde Python es necesario tener instalada una de las varias librerias existentes.  Para este caso utilizaremos **mysql-connector**.  A continuación, instalación de la librería."
      ],
      "metadata": {
        "id": "z6qZ6IKo2DA-"
      }
    },
    {
      "cell_type": "code",
      "source": [
        "#instalación de librería mysql-connector\n",
        "!pip install mysql-connector"
      ],
      "metadata": {
        "id": "WhaJQdC9cI-h"
      },
      "execution_count": null,
      "outputs": []
    },
    {
      "cell_type": "markdown",
      "source": [
        "Una vez instalada la librería realizaremos la conexión a la base de datos."
      ],
      "metadata": {
        "id": "-h2mekuf8IP5"
      }
    },
    {
      "cell_type": "code",
      "execution_count": null,
      "metadata": {
        "id": "twcfRiz9Sq2p"
      },
      "outputs": [],
      "source": [
        "#importación de las librerías necesarias\n",
        "import mysql.connector\n",
        "from mysql.connector import Error\n",
        "\n",
        "host = 'xx.xxx.xx.xx'\n",
        "usuario = 'xxxxx'\n",
        "contrasenia = '*****'\n",
        "basedatos = 'xxxxx'\n",
        "\n",
        "conexion = None\n",
        "try:\n",
        "  conexion = mysql.connector.connect(host = host,user = usuario, passwd = contrasenia, database = basedatos )\n",
        "  print('Conexión realizada satisfactoriamente')\n",
        "except Error as e:\n",
        "  print(\"Error al establecer conexión: \",e)\n"
      ]
    },
    {
      "cell_type": "markdown",
      "source": [
        "#3 Consulta de datos\n",
        "\n",
        "Con la conexión a la base de datos establecida, procederemos a listar los regitros de la tabla usuarios"
      ],
      "metadata": {
        "id": "AczM1rSL-JO_"
      }
    },
    {
      "cell_type": "code",
      "source": [
        "#Consulta de datos\n",
        "\n",
        "if(conexion != None):\n",
        "    cursor = conexion.cursor(dictionary=True)\n",
        "    result = None\n",
        "    try:\n",
        "        cursor.execute(\"SELECT * FROM usuarios\")\n",
        "        result = cursor.fetchall()        \n",
        "    except Error as e:\n",
        "        print(\"Se ha presentado error al ejecutar la consulta: \",e)   \n",
        "    \n",
        "    for row in result:\n",
        "      print(row)\n",
        "else:\n",
        "    print('No existe conexión a la base de datos')\n"
      ],
      "metadata": {
        "id": "bPIXiqzOebwi"
      },
      "execution_count": null,
      "outputs": []
    },
    {
      "cell_type": "markdown",
      "source": [
        "#4 Inserción de datos\n",
        "\n",
        "En este punto procederemos a insertar datos en la tabla usuarios"
      ],
      "metadata": {
        "id": "q5WYIz2T-7rN"
      }
    },
    {
      "cell_type": "code",
      "source": [
        "#Inserción de datos\n",
        "\n",
        "sql = \"INSERT INTO usuarios(nombres, apellidos,email) VALUES('Lola','Flores','lola@com.co')\"\n",
        "\n",
        "if(conexion != None):        \n",
        "    try:\n",
        "      cursor = conexion.cursor()\n",
        "      #Ejecuta la consulta\n",
        "      cursor.execute(sql)\n",
        "      #Comfirma los cambios en la base de datos\n",
        "      conexion.commit()\n",
        "      print(\"Registro ingresado satisfactoriamente\")            \n",
        "    except Error as e:\n",
        "        print(\"Se ha presentado error ingresar el registro: \",e)   \n",
        "else:\n",
        "    print('No existe conexión a la base de datos')\n"
      ],
      "metadata": {
        "id": "u1fUxsl7e5iY"
      },
      "execution_count": null,
      "outputs": []
    },
    {
      "cell_type": "markdown",
      "source": [
        "#5 Modificación de datos\n",
        "\n",
        "Procederemos a modificar el último registro ingresado para cambiar el apellido de Lola de Flores a Rosas"
      ],
      "metadata": {
        "id": "TE7FF9rIAqo4"
      }
    },
    {
      "cell_type": "code",
      "source": [
        "#Modificación registro\n",
        "sql = \"UPDATE usuarios SET apellidos = 'Rosas' WHERE nombres = 'Lola'\"\n",
        "\n",
        "if(conexion != None):        \n",
        "    try:\n",
        "      cursor = conexion.cursor()\n",
        "      #Ejecuta la consulta\n",
        "      cursor.execute(sql)\n",
        "      #Comfirma los cambios en la base de datos\n",
        "      conexion.commit()\n",
        "      print(\"Registro modificado satisfactoriamente\")            \n",
        "    except Error as e:\n",
        "        print(\"Se ha presentado error al modificar registro: \",e)   \n",
        "else:\n",
        "    print('No existe conexión a la base de datos')\n"
      ],
      "metadata": {
        "id": "-hM4EjqWfFdB"
      },
      "execution_count": null,
      "outputs": []
    },
    {
      "cell_type": "markdown",
      "source": [
        "#6 Eliminación de datos\n",
        "\n",
        "La última operación es la de borrado de regitros"
      ],
      "metadata": {
        "id": "1OY0vMw5CYSQ"
      }
    },
    {
      "cell_type": "code",
      "source": [
        "#Eliminación registro\n",
        "\n",
        "sql = \"DELETE FROM usuarios where nombres='Lola'\"\n",
        "\n",
        "if(conexion != None):        \n",
        "    try:\n",
        "      cursor = conexion.cursor()\n",
        "      #Ejecuta la consulta\n",
        "      cursor.execute(sql)\n",
        "      #Comfirma los cambios en la base de datos\n",
        "      conexion.commit()\n",
        "      print(\"Registro eliminado satisfactoriamente\")            \n",
        "    except Error as e:\n",
        "        print(\"Se ha presentado error al eliminar registro: \",e)   \n",
        "else:\n",
        "    print('No existe conexión a la base de datos')\n",
        "\n"
      ],
      "metadata": {
        "id": "Aox8K4uQgDhR"
      },
      "execution_count": null,
      "outputs": []
    },
    {
      "cell_type": "markdown",
      "source": [
        "Es importante una vez finalizadas las operaciones sobre la base de datos cerrar la conexión.\n"
      ],
      "metadata": {
        "id": "6Iblc15UDNJm"
      }
    },
    {
      "cell_type": "code",
      "source": [
        "#Finalización de la conexión a la base de datos\n",
        "conexion.close()"
      ],
      "metadata": {
        "id": "JF0fg9GLDWlo"
      },
      "execution_count": 19,
      "outputs": []
    }
  ]
}